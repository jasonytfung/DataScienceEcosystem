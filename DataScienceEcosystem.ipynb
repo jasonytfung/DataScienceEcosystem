{
 "cells": [
  {
   "cell_type": "markdown",
   "id": "220b09d9-2633-4e04-b18f-1c6a7e9fde87",
   "metadata": {},
   "source": [
    "#Data Science Tools and Ecosystem"
   ]
  },
  {
   "cell_type": "markdown",
   "id": "a8e47425-28b9-44f3-8bf7-c71a9bfa5767",
   "metadata": {},
   "source": [
    "In this notebook, Data Science Tools and Ecosystem are summarized."
   ]
  },
  {
   "cell_type": "markdown",
   "id": "7708f416-5388-4aaf-b41c-5d91b6673156",
   "metadata": {},
   "source": [
    "Objectives:\n",
    "- List of of the popular languages that Data Scientists use\n",
    "- List of the commonly used libraries used by Data Scientists\n",
    "- Data Science Tools\n",
    "- Examples of arithmetic expressions in Python"
   ]
  },
  {
   "cell_type": "markdown",
   "id": "8deb3570-2fc5-4f98-a4bf-f6460aefe671",
   "metadata": {},
   "source": [
    "Some of the popular languages that Data Scientists use are:\n",
    "1. Python\n",
    "2. R\n",
    "3. SQL"
   ]
  },
  {
   "cell_type": "markdown",
   "id": "86666bf4-39a7-4aa9-867e-d3cc67456e31",
   "metadata": {},
   "source": [
    "Some of the commonly used libraries used by Data Scientists include:\n",
    "1. Numpy\n",
    "2. Matplotlib\n",
    "3. Pandas"
   ]
  },
  {
   "cell_type": "markdown",
   "id": "44b2de0f-c281-4ac3-938c-8853267e5cf2",
   "metadata": {},
   "source": [
    "|Data Science Tools|\n",
    "|---|\n",
    "|Apache Spark|\n",
    "|TensorFlow|\n",
    "|Scikit-learn|"
   ]
  },
  {
   "cell_type": "markdown",
   "id": "2ad3e277-8a9b-445f-a096-65e6582a5936",
   "metadata": {},
   "source": [
    "###Below are a few examples of evaluating arithmetic expressions in Python"
   ]
  },
  {
   "cell_type": "code",
   "execution_count": 6,
   "id": "834028cf-b091-4740-b8c1-6b1e104869cb",
   "metadata": {},
   "outputs": [
    {
     "data": {
      "text/plain": [
       "17"
      ]
     },
     "execution_count": 6,
     "metadata": {},
     "output_type": "execute_result"
    }
   ],
   "source": [
    "#This a simple arithmetic expression to mutiply then add integers\n",
    "(3*4)+5"
   ]
  },
  {
   "cell_type": "code",
   "execution_count": 7,
   "id": "14b5491e-d175-4ee8-b3a2-0691bb4d3f44",
   "metadata": {},
   "outputs": [
    {
     "name": "stdout",
     "output_type": "stream",
     "text": [
      "[3, 20]\n"
     ]
    }
   ],
   "source": [
    "#This will convert 200 minutes to hours by diving by 60\n",
    "minutes=int(200)\n",
    "h=int(minutes/60)\n",
    "m=minutes%60\n",
    "time=[h,m]\n",
    "print(time)"
   ]
  },
  {
   "cell_type": "markdown",
   "id": "470bcb0f-9b4f-4b60-a883-45aa2d4a3fb7",
   "metadata": {},
   "source": [
    "##Author\n",
    "Fung Yat To Jason"
   ]
  }
 ],
 "metadata": {
  "kernelspec": {
   "display_name": "Python 3 (ipykernel)",
   "language": "python",
   "name": "python3"
  },
  "language_info": {
   "codemirror_mode": {
    "name": "ipython",
    "version": 3
   },
   "file_extension": ".py",
   "mimetype": "text/x-python",
   "name": "python",
   "nbconvert_exporter": "python",
   "pygments_lexer": "ipython3",
   "version": "3.12.8"
  }
 },
 "nbformat": 4,
 "nbformat_minor": 5
}
